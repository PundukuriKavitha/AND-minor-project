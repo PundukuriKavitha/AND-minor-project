{
 "cells": [
  {
   "cell_type": "markdown",
   "id": "79680703",
   "metadata": {},
   "source": [
    "# Used car price prediction"
   ]
  },
  {
   "cell_type": "markdown",
   "id": "38a4581f",
   "metadata": {},
   "source": [
    "# Data Collection"
   ]
  },
  {
   "cell_type": "code",
   "execution_count": 1,
   "id": "0396bae3",
   "metadata": {},
   "outputs": [],
   "source": [
    "#importing the libraries\n",
    "\n",
    "import numpy as np\n",
    "import pandas as pd\n",
    "import seaborn as sns\n",
    "import matplotlib.pyplot as plt\n",
    "\n",
    "import warnings\n",
    "warnings.filterwarnings('ignore')\n",
    "\n",
    "from sklearn.model_selection import train_test_split\n",
    "from sklearn.preprocessing import LabelEncoder\n",
    "from sklearn.metrics import r2_score\n",
    "from sklearn.preprocessing import StandardScaler"
   ]
  },
  {
   "cell_type": "code",
   "execution_count": 2,
   "id": "025ca1de",
   "metadata": {},
   "outputs": [],
   "source": [
    "#reading the csv file\n",
    "df=pd.read_csv(\"C:\\\\Users\\\\admin\\\\OneDrive\\\\Desktop\\\\used_car_dataset.csv\")"
   ]
  },
  {
   "cell_type": "code",
   "execution_count": 3,
   "id": "6a7b8b17",
   "metadata": {},
   "outputs": [
    {
     "data": {
      "text/html": [
       "<div>\n",
       "<style scoped>\n",
       "    .dataframe tbody tr th:only-of-type {\n",
       "        vertical-align: middle;\n",
       "    }\n",
       "\n",
       "    .dataframe tbody tr th {\n",
       "        vertical-align: top;\n",
       "    }\n",
       "\n",
       "    .dataframe thead th {\n",
       "        text-align: right;\n",
       "    }\n",
       "</style>\n",
       "<table border=\"1\" class=\"dataframe\">\n",
       "  <thead>\n",
       "    <tr style=\"text-align: right;\">\n",
       "      <th></th>\n",
       "      <th>car_name</th>\n",
       "      <th>car_price_in_rupees</th>\n",
       "      <th>kms_driven</th>\n",
       "      <th>fuel_type</th>\n",
       "      <th>city</th>\n",
       "      <th>year_of_manufacture</th>\n",
       "    </tr>\n",
       "  </thead>\n",
       "  <tbody>\n",
       "    <tr>\n",
       "      <th>0</th>\n",
       "      <td>Hyundai Grand i10 Magna 1.2 Kappa VTVT [2017-2...</td>\n",
       "      <td>₹ 4.45 Lakh</td>\n",
       "      <td>22,402 km</td>\n",
       "      <td>Petrol</td>\n",
       "      <td>Mumbai</td>\n",
       "      <td>2016</td>\n",
       "    </tr>\n",
       "    <tr>\n",
       "      <th>1</th>\n",
       "      <td>Maruti Suzuki Alto 800 Lxi</td>\n",
       "      <td>₹ 2.93 Lakh</td>\n",
       "      <td>10,344 km</td>\n",
       "      <td>Petrol</td>\n",
       "      <td>Kolkata</td>\n",
       "      <td>2019</td>\n",
       "    </tr>\n",
       "    <tr>\n",
       "      <th>2</th>\n",
       "      <td>Tata Safari XZ Plus New</td>\n",
       "      <td>₹ 22.49 Lakh</td>\n",
       "      <td>12,999 km</td>\n",
       "      <td>Diesel</td>\n",
       "      <td>Bangalore</td>\n",
       "      <td>2021</td>\n",
       "    </tr>\n",
       "    <tr>\n",
       "      <th>3</th>\n",
       "      <td>Maruti Suzuki Ciaz ZXI+</td>\n",
       "      <td>₹ 6.95 Lakh</td>\n",
       "      <td>45,000 km</td>\n",
       "      <td>Petrol</td>\n",
       "      <td>Thane</td>\n",
       "      <td>2016</td>\n",
       "    </tr>\n",
       "    <tr>\n",
       "      <th>4</th>\n",
       "      <td>Jeep Compass Sport Plus 1.4 Petrol [2019-2020]</td>\n",
       "      <td>₹ 12 Lakh</td>\n",
       "      <td>11,193 km</td>\n",
       "      <td>Petrol</td>\n",
       "      <td>Kolkata</td>\n",
       "      <td>2019</td>\n",
       "    </tr>\n",
       "  </tbody>\n",
       "</table>\n",
       "</div>"
      ],
      "text/plain": [
       "                                            car_name car_price_in_rupees  \\\n",
       "0  Hyundai Grand i10 Magna 1.2 Kappa VTVT [2017-2...         ₹ 4.45 Lakh   \n",
       "1                         Maruti Suzuki Alto 800 Lxi         ₹ 2.93 Lakh   \n",
       "2                            Tata Safari XZ Plus New        ₹ 22.49 Lakh   \n",
       "3                            Maruti Suzuki Ciaz ZXI+         ₹ 6.95 Lakh   \n",
       "4     Jeep Compass Sport Plus 1.4 Petrol [2019-2020]           ₹ 12 Lakh   \n",
       "\n",
       "  kms_driven fuel_type       city  year_of_manufacture  \n",
       "0  22,402 km    Petrol     Mumbai                 2016  \n",
       "1  10,344 km    Petrol    Kolkata                 2019  \n",
       "2  12,999 km    Diesel  Bangalore                 2021  \n",
       "3  45,000 km    Petrol      Thane                 2016  \n",
       "4  11,193 km    Petrol    Kolkata                 2019  "
      ]
     },
     "execution_count": 3,
     "metadata": {},
     "output_type": "execute_result"
    }
   ],
   "source": [
    "df.head()"
   ]
  },
  {
   "cell_type": "code",
   "execution_count": 4,
   "id": "40108806",
   "metadata": {},
   "outputs": [
    {
     "data": {
      "text/html": [
       "<div>\n",
       "<style scoped>\n",
       "    .dataframe tbody tr th:only-of-type {\n",
       "        vertical-align: middle;\n",
       "    }\n",
       "\n",
       "    .dataframe tbody tr th {\n",
       "        vertical-align: top;\n",
       "    }\n",
       "\n",
       "    .dataframe thead th {\n",
       "        text-align: right;\n",
       "    }\n",
       "</style>\n",
       "<table border=\"1\" class=\"dataframe\">\n",
       "  <thead>\n",
       "    <tr style=\"text-align: right;\">\n",
       "      <th></th>\n",
       "      <th>car_name</th>\n",
       "      <th>car_price_in_rupees</th>\n",
       "      <th>kms_driven</th>\n",
       "      <th>fuel_type</th>\n",
       "      <th>city</th>\n",
       "      <th>year_of_manufacture</th>\n",
       "    </tr>\n",
       "  </thead>\n",
       "  <tbody>\n",
       "    <tr>\n",
       "      <th>2100</th>\n",
       "      <td>Ford Figo Titanium1.5 TDCi</td>\n",
       "      <td>₹ 3.6 Lakh</td>\n",
       "      <td>42,158 km</td>\n",
       "      <td>Diesel</td>\n",
       "      <td>Kolkata</td>\n",
       "      <td>2015</td>\n",
       "    </tr>\n",
       "    <tr>\n",
       "      <th>2101</th>\n",
       "      <td>MINI Cooper Countryman Cooper D</td>\n",
       "      <td>₹ 22 Lakh</td>\n",
       "      <td>68,862 km</td>\n",
       "      <td>Diesel</td>\n",
       "      <td>Hyderabad</td>\n",
       "      <td>2013</td>\n",
       "    </tr>\n",
       "    <tr>\n",
       "      <th>2102</th>\n",
       "      <td>Hyundai Verna 1.6 VTVT SX</td>\n",
       "      <td>₹ 8.38 Lakh</td>\n",
       "      <td>37,622 km</td>\n",
       "      <td>Petrol</td>\n",
       "      <td>Chennai</td>\n",
       "      <td>2018</td>\n",
       "    </tr>\n",
       "    <tr>\n",
       "      <th>2103</th>\n",
       "      <td>Maruti Suzuki Ciaz VXi+ AT</td>\n",
       "      <td>₹ 6.75 Lakh</td>\n",
       "      <td>64,726 km</td>\n",
       "      <td>Petrol</td>\n",
       "      <td>Mumbai</td>\n",
       "      <td>2017</td>\n",
       "    </tr>\n",
       "    <tr>\n",
       "      <th>2104</th>\n",
       "      <td>Hyundai Verna 1.6 VTVT SX</td>\n",
       "      <td>₹ 8.76 Lakh</td>\n",
       "      <td>29,150 km</td>\n",
       "      <td>Petrol</td>\n",
       "      <td>Pune</td>\n",
       "      <td>2017</td>\n",
       "    </tr>\n",
       "  </tbody>\n",
       "</table>\n",
       "</div>"
      ],
      "text/plain": [
       "                             car_name car_price_in_rupees kms_driven  \\\n",
       "2100       Ford Figo Titanium1.5 TDCi          ₹ 3.6 Lakh  42,158 km   \n",
       "2101  MINI Cooper Countryman Cooper D           ₹ 22 Lakh  68,862 km   \n",
       "2102        Hyundai Verna 1.6 VTVT SX         ₹ 8.38 Lakh  37,622 km   \n",
       "2103       Maruti Suzuki Ciaz VXi+ AT         ₹ 6.75 Lakh  64,726 km   \n",
       "2104        Hyundai Verna 1.6 VTVT SX         ₹ 8.76 Lakh  29,150 km   \n",
       "\n",
       "     fuel_type       city  year_of_manufacture  \n",
       "2100    Diesel    Kolkata                 2015  \n",
       "2101    Diesel  Hyderabad                 2013  \n",
       "2102    Petrol    Chennai                 2018  \n",
       "2103    Petrol     Mumbai                 2017  \n",
       "2104    Petrol       Pune                 2017  "
      ]
     },
     "execution_count": 4,
     "metadata": {},
     "output_type": "execute_result"
    }
   ],
   "source": [
    "df.tail()"
   ]
  },
  {
   "cell_type": "markdown",
   "id": "f6be4e9d",
   "metadata": {},
   "source": [
    "# Understanding the data"
   ]
  },
  {
   "cell_type": "code",
   "execution_count": 5,
   "id": "739b97b7",
   "metadata": {},
   "outputs": [
    {
     "data": {
      "text/plain": [
       "(2105, 6)"
      ]
     },
     "execution_count": 5,
     "metadata": {},
     "output_type": "execute_result"
    }
   ],
   "source": [
    "df.shape"
   ]
  },
  {
   "cell_type": "code",
   "execution_count": 6,
   "id": "78783bc5",
   "metadata": {},
   "outputs": [
    {
     "name": "stdout",
     "output_type": "stream",
     "text": [
      "<class 'pandas.core.frame.DataFrame'>\n",
      "RangeIndex: 2105 entries, 0 to 2104\n",
      "Data columns (total 6 columns):\n",
      " #   Column               Non-Null Count  Dtype \n",
      "---  ------               --------------  ----- \n",
      " 0   car_name             2105 non-null   object\n",
      " 1   car_price_in_rupees  2105 non-null   object\n",
      " 2   kms_driven           2105 non-null   object\n",
      " 3   fuel_type            2105 non-null   object\n",
      " 4   city                 2105 non-null   object\n",
      " 5   year_of_manufacture  2105 non-null   int64 \n",
      "dtypes: int64(1), object(5)\n",
      "memory usage: 98.8+ KB\n"
     ]
    }
   ],
   "source": [
    "df.info()"
   ]
  },
  {
   "cell_type": "code",
   "execution_count": 7,
   "id": "9aa6de80",
   "metadata": {},
   "outputs": [
    {
     "data": {
      "text/html": [
       "<div>\n",
       "<style scoped>\n",
       "    .dataframe tbody tr th:only-of-type {\n",
       "        vertical-align: middle;\n",
       "    }\n",
       "\n",
       "    .dataframe tbody tr th {\n",
       "        vertical-align: top;\n",
       "    }\n",
       "\n",
       "    .dataframe thead th {\n",
       "        text-align: right;\n",
       "    }\n",
       "</style>\n",
       "<table border=\"1\" class=\"dataframe\">\n",
       "  <thead>\n",
       "    <tr style=\"text-align: right;\">\n",
       "      <th></th>\n",
       "      <th>year_of_manufacture</th>\n",
       "    </tr>\n",
       "  </thead>\n",
       "  <tbody>\n",
       "    <tr>\n",
       "      <th>count</th>\n",
       "      <td>2105.000000</td>\n",
       "    </tr>\n",
       "    <tr>\n",
       "      <th>mean</th>\n",
       "      <td>2017.022803</td>\n",
       "    </tr>\n",
       "    <tr>\n",
       "      <th>std</th>\n",
       "      <td>2.818066</td>\n",
       "    </tr>\n",
       "    <tr>\n",
       "      <th>min</th>\n",
       "      <td>2004.000000</td>\n",
       "    </tr>\n",
       "    <tr>\n",
       "      <th>25%</th>\n",
       "      <td>2015.000000</td>\n",
       "    </tr>\n",
       "    <tr>\n",
       "      <th>50%</th>\n",
       "      <td>2017.000000</td>\n",
       "    </tr>\n",
       "    <tr>\n",
       "      <th>75%</th>\n",
       "      <td>2019.000000</td>\n",
       "    </tr>\n",
       "    <tr>\n",
       "      <th>max</th>\n",
       "      <td>2022.000000</td>\n",
       "    </tr>\n",
       "  </tbody>\n",
       "</table>\n",
       "</div>"
      ],
      "text/plain": [
       "       year_of_manufacture\n",
       "count          2105.000000\n",
       "mean           2017.022803\n",
       "std               2.818066\n",
       "min            2004.000000\n",
       "25%            2015.000000\n",
       "50%            2017.000000\n",
       "75%            2019.000000\n",
       "max            2022.000000"
      ]
     },
     "execution_count": 7,
     "metadata": {},
     "output_type": "execute_result"
    }
   ],
   "source": [
    "df.describe()"
   ]
  },
  {
   "cell_type": "markdown",
   "id": "93395b30",
   "metadata": {},
   "source": [
    "# Cleaning the Data"
   ]
  },
  {
   "cell_type": "code",
   "execution_count": 8,
   "id": "19df103b",
   "metadata": {},
   "outputs": [],
   "source": [
    "car=df.copy()"
   ]
  },
  {
   "cell_type": "code",
   "execution_count": 9,
   "id": "e4ce096a",
   "metadata": {},
   "outputs": [
    {
     "data": {
      "text/html": [
       "<div>\n",
       "<style scoped>\n",
       "    .dataframe tbody tr th:only-of-type {\n",
       "        vertical-align: middle;\n",
       "    }\n",
       "\n",
       "    .dataframe tbody tr th {\n",
       "        vertical-align: top;\n",
       "    }\n",
       "\n",
       "    .dataframe thead th {\n",
       "        text-align: right;\n",
       "    }\n",
       "</style>\n",
       "<table border=\"1\" class=\"dataframe\">\n",
       "  <thead>\n",
       "    <tr style=\"text-align: right;\">\n",
       "      <th></th>\n",
       "      <th>car_name</th>\n",
       "      <th>car_price_in_rupees</th>\n",
       "      <th>kms_driven</th>\n",
       "      <th>fuel_type</th>\n",
       "      <th>city</th>\n",
       "      <th>year_of_manufacture</th>\n",
       "    </tr>\n",
       "  </thead>\n",
       "  <tbody>\n",
       "    <tr>\n",
       "      <th>0</th>\n",
       "      <td>Hyundai Grand i10 Magna 1.2 Kappa VTVT [2017-2...</td>\n",
       "      <td>₹ 4.45 Lakh</td>\n",
       "      <td>22,402 km</td>\n",
       "      <td>Petrol</td>\n",
       "      <td>Mumbai</td>\n",
       "      <td>2016</td>\n",
       "    </tr>\n",
       "    <tr>\n",
       "      <th>1</th>\n",
       "      <td>Maruti Suzuki Alto 800 Lxi</td>\n",
       "      <td>₹ 2.93 Lakh</td>\n",
       "      <td>10,344 km</td>\n",
       "      <td>Petrol</td>\n",
       "      <td>Kolkata</td>\n",
       "      <td>2019</td>\n",
       "    </tr>\n",
       "    <tr>\n",
       "      <th>2</th>\n",
       "      <td>Tata Safari XZ Plus New</td>\n",
       "      <td>₹ 22.49 Lakh</td>\n",
       "      <td>12,999 km</td>\n",
       "      <td>Diesel</td>\n",
       "      <td>Bangalore</td>\n",
       "      <td>2021</td>\n",
       "    </tr>\n",
       "    <tr>\n",
       "      <th>3</th>\n",
       "      <td>Maruti Suzuki Ciaz ZXI+</td>\n",
       "      <td>₹ 6.95 Lakh</td>\n",
       "      <td>45,000 km</td>\n",
       "      <td>Petrol</td>\n",
       "      <td>Thane</td>\n",
       "      <td>2016</td>\n",
       "    </tr>\n",
       "    <tr>\n",
       "      <th>4</th>\n",
       "      <td>Jeep Compass Sport Plus 1.4 Petrol [2019-2020]</td>\n",
       "      <td>₹ 12 Lakh</td>\n",
       "      <td>11,193 km</td>\n",
       "      <td>Petrol</td>\n",
       "      <td>Kolkata</td>\n",
       "      <td>2019</td>\n",
       "    </tr>\n",
       "    <tr>\n",
       "      <th>...</th>\n",
       "      <td>...</td>\n",
       "      <td>...</td>\n",
       "      <td>...</td>\n",
       "      <td>...</td>\n",
       "      <td>...</td>\n",
       "      <td>...</td>\n",
       "    </tr>\n",
       "    <tr>\n",
       "      <th>2100</th>\n",
       "      <td>Ford Figo Titanium1.5 TDCi</td>\n",
       "      <td>₹ 3.6 Lakh</td>\n",
       "      <td>42,158 km</td>\n",
       "      <td>Diesel</td>\n",
       "      <td>Kolkata</td>\n",
       "      <td>2015</td>\n",
       "    </tr>\n",
       "    <tr>\n",
       "      <th>2101</th>\n",
       "      <td>MINI Cooper Countryman Cooper D</td>\n",
       "      <td>₹ 22 Lakh</td>\n",
       "      <td>68,862 km</td>\n",
       "      <td>Diesel</td>\n",
       "      <td>Hyderabad</td>\n",
       "      <td>2013</td>\n",
       "    </tr>\n",
       "    <tr>\n",
       "      <th>2102</th>\n",
       "      <td>Hyundai Verna 1.6 VTVT SX</td>\n",
       "      <td>₹ 8.38 Lakh</td>\n",
       "      <td>37,622 km</td>\n",
       "      <td>Petrol</td>\n",
       "      <td>Chennai</td>\n",
       "      <td>2018</td>\n",
       "    </tr>\n",
       "    <tr>\n",
       "      <th>2103</th>\n",
       "      <td>Maruti Suzuki Ciaz VXi+ AT</td>\n",
       "      <td>₹ 6.75 Lakh</td>\n",
       "      <td>64,726 km</td>\n",
       "      <td>Petrol</td>\n",
       "      <td>Mumbai</td>\n",
       "      <td>2017</td>\n",
       "    </tr>\n",
       "    <tr>\n",
       "      <th>2104</th>\n",
       "      <td>Hyundai Verna 1.6 VTVT SX</td>\n",
       "      <td>₹ 8.76 Lakh</td>\n",
       "      <td>29,150 km</td>\n",
       "      <td>Petrol</td>\n",
       "      <td>Pune</td>\n",
       "      <td>2017</td>\n",
       "    </tr>\n",
       "  </tbody>\n",
       "</table>\n",
       "<p>2105 rows × 6 columns</p>\n",
       "</div>"
      ],
      "text/plain": [
       "                                               car_name car_price_in_rupees  \\\n",
       "0     Hyundai Grand i10 Magna 1.2 Kappa VTVT [2017-2...         ₹ 4.45 Lakh   \n",
       "1                            Maruti Suzuki Alto 800 Lxi         ₹ 2.93 Lakh   \n",
       "2                               Tata Safari XZ Plus New        ₹ 22.49 Lakh   \n",
       "3                               Maruti Suzuki Ciaz ZXI+         ₹ 6.95 Lakh   \n",
       "4        Jeep Compass Sport Plus 1.4 Petrol [2019-2020]           ₹ 12 Lakh   \n",
       "...                                                 ...                 ...   \n",
       "2100                         Ford Figo Titanium1.5 TDCi          ₹ 3.6 Lakh   \n",
       "2101                    MINI Cooper Countryman Cooper D           ₹ 22 Lakh   \n",
       "2102                          Hyundai Verna 1.6 VTVT SX         ₹ 8.38 Lakh   \n",
       "2103                         Maruti Suzuki Ciaz VXi+ AT         ₹ 6.75 Lakh   \n",
       "2104                          Hyundai Verna 1.6 VTVT SX         ₹ 8.76 Lakh   \n",
       "\n",
       "     kms_driven fuel_type       city  year_of_manufacture  \n",
       "0     22,402 km    Petrol     Mumbai                 2016  \n",
       "1     10,344 km    Petrol    Kolkata                 2019  \n",
       "2     12,999 km    Diesel  Bangalore                 2021  \n",
       "3     45,000 km    Petrol      Thane                 2016  \n",
       "4     11,193 km    Petrol    Kolkata                 2019  \n",
       "...         ...       ...        ...                  ...  \n",
       "2100  42,158 km    Diesel    Kolkata                 2015  \n",
       "2101  68,862 km    Diesel  Hyderabad                 2013  \n",
       "2102  37,622 km    Petrol    Chennai                 2018  \n",
       "2103  64,726 km    Petrol     Mumbai                 2017  \n",
       "2104  29,150 km    Petrol       Pune                 2017  \n",
       "\n",
       "[2105 rows x 6 columns]"
      ]
     },
     "execution_count": 9,
     "metadata": {},
     "output_type": "execute_result"
    }
   ],
   "source": [
    "car"
   ]
  },
  {
   "cell_type": "code",
   "execution_count": 10,
   "id": "def78eb3",
   "metadata": {},
   "outputs": [
    {
     "data": {
      "text/plain": [
       "car_name               0\n",
       "car_price_in_rupees    0\n",
       "kms_driven             0\n",
       "fuel_type              0\n",
       "city                   0\n",
       "year_of_manufacture    0\n",
       "dtype: int64"
      ]
     },
     "execution_count": 10,
     "metadata": {},
     "output_type": "execute_result"
    }
   ],
   "source": [
    "car.isnull().sum()"
   ]
  },
  {
   "cell_type": "code",
   "execution_count": 11,
   "id": "cd0e1308",
   "metadata": {},
   "outputs": [
    {
     "data": {
      "text/plain": [
       "92"
      ]
     },
     "execution_count": 11,
     "metadata": {},
     "output_type": "execute_result"
    }
   ],
   "source": [
    "car.duplicated().sum()"
   ]
  },
  {
   "cell_type": "code",
   "execution_count": 12,
   "id": "97cd1445",
   "metadata": {},
   "outputs": [],
   "source": [
    "car.drop_duplicates(inplace=True)"
   ]
  },
  {
   "cell_type": "code",
   "execution_count": 13,
   "id": "06f48f82",
   "metadata": {},
   "outputs": [],
   "source": [
    "#extracting the company name from car name\n",
    "car['car_name']=car['car_name'].str.split(' ').str.slice(0,2).str.join(' ')\n",
    "car['name']=car['car_name']"
   ]
  },
  {
   "cell_type": "code",
   "execution_count": 14,
   "id": "75a93544",
   "metadata": {},
   "outputs": [],
   "source": [
    "car['car_price_in_rupees']=car['car_price_in_rupees'].str.split(\" \").str.get(1).str.replace(',','')\n",
    "car[\"car_price_in_rupees\"]=car[\"car_price_in_rupees\"].str.replace('60 000','60.0')\n",
    "car[\"car_price_in_rupees\"]=car[\"car_price_in_rupees\"].str.replace('99 991','99.991')\n",
    "car[\"car_price_in_rupees\"]=car[\"car_price_in_rupees\"].astype(float)\n",
    "car[\"car_price_in_rupees\"]=car[\"car_price_in_rupees\"]*100000"
   ]
  },
  {
   "cell_type": "code",
   "execution_count": 15,
   "id": "0c5b9913",
   "metadata": {},
   "outputs": [],
   "source": [
    "car[\"Price\"]=car[\"car_price_in_rupees\"]"
   ]
  },
  {
   "cell_type": "code",
   "execution_count": 16,
   "id": "f1cec78a",
   "metadata": {},
   "outputs": [],
   "source": [
    "car['fuel_type']=car['fuel_type'].str.split(\" \").str.get(0).replace(',','')"
   ]
  },
  {
   "cell_type": "code",
   "execution_count": 17,
   "id": "d25f6770",
   "metadata": {},
   "outputs": [
    {
     "data": {
      "text/plain": [
       "0       Petrol\n",
       "1       Petrol\n",
       "2       Diesel\n",
       "3       Petrol\n",
       "4       Petrol\n",
       "         ...  \n",
       "2100    Diesel\n",
       "2101    Diesel\n",
       "2102    Petrol\n",
       "2103    Petrol\n",
       "2104    Petrol\n",
       "Name: fuel_type, Length: 2013, dtype: object"
      ]
     },
     "execution_count": 17,
     "metadata": {},
     "output_type": "execute_result"
    }
   ],
   "source": [
    "car['fuel_type']"
   ]
  },
  {
   "cell_type": "code",
   "execution_count": 18,
   "id": "0cf740ac",
   "metadata": {},
   "outputs": [],
   "source": [
    "car['kms_driven']=car['kms_driven'].str.split(\" \").str.get(0).str.replace(',','')\n",
    "car['kms_driven']=car['kms_driven'].astype(int)"
   ]
  },
  {
   "cell_type": "code",
   "execution_count": 19,
   "id": "11254529",
   "metadata": {},
   "outputs": [
    {
     "data": {
      "text/plain": [
       "0       22402\n",
       "1       10344\n",
       "2       12999\n",
       "3       45000\n",
       "4       11193\n",
       "        ...  \n",
       "2100    42158\n",
       "2101    68862\n",
       "2102    37622\n",
       "2103    64726\n",
       "2104    29150\n",
       "Name: kms_driven, Length: 2013, dtype: int32"
      ]
     },
     "execution_count": 19,
     "metadata": {},
     "output_type": "execute_result"
    }
   ],
   "source": [
    "car['kms_driven']"
   ]
  },
  {
   "cell_type": "code",
   "execution_count": 20,
   "id": "e8308e71",
   "metadata": {},
   "outputs": [],
   "source": [
    "#Dropping the unwanted columns\n",
    "car.drop(columns=['car_name','city','car_price_in_rupees'],inplace=True)"
   ]
  },
  {
   "cell_type": "code",
   "execution_count": 21,
   "id": "f7c81a94",
   "metadata": {},
   "outputs": [
    {
     "data": {
      "text/html": [
       "<div>\n",
       "<style scoped>\n",
       "    .dataframe tbody tr th:only-of-type {\n",
       "        vertical-align: middle;\n",
       "    }\n",
       "\n",
       "    .dataframe tbody tr th {\n",
       "        vertical-align: top;\n",
       "    }\n",
       "\n",
       "    .dataframe thead th {\n",
       "        text-align: right;\n",
       "    }\n",
       "</style>\n",
       "<table border=\"1\" class=\"dataframe\">\n",
       "  <thead>\n",
       "    <tr style=\"text-align: right;\">\n",
       "      <th></th>\n",
       "      <th>kms_driven</th>\n",
       "      <th>fuel_type</th>\n",
       "      <th>year_of_manufacture</th>\n",
       "      <th>name</th>\n",
       "      <th>Price</th>\n",
       "    </tr>\n",
       "  </thead>\n",
       "  <tbody>\n",
       "    <tr>\n",
       "      <th>0</th>\n",
       "      <td>22402</td>\n",
       "      <td>Petrol</td>\n",
       "      <td>2016</td>\n",
       "      <td>Hyundai Grand</td>\n",
       "      <td>445000.0</td>\n",
       "    </tr>\n",
       "    <tr>\n",
       "      <th>1</th>\n",
       "      <td>10344</td>\n",
       "      <td>Petrol</td>\n",
       "      <td>2019</td>\n",
       "      <td>Maruti Suzuki</td>\n",
       "      <td>293000.0</td>\n",
       "    </tr>\n",
       "    <tr>\n",
       "      <th>2</th>\n",
       "      <td>12999</td>\n",
       "      <td>Diesel</td>\n",
       "      <td>2021</td>\n",
       "      <td>Tata Safari</td>\n",
       "      <td>2249000.0</td>\n",
       "    </tr>\n",
       "    <tr>\n",
       "      <th>3</th>\n",
       "      <td>45000</td>\n",
       "      <td>Petrol</td>\n",
       "      <td>2016</td>\n",
       "      <td>Maruti Suzuki</td>\n",
       "      <td>695000.0</td>\n",
       "    </tr>\n",
       "    <tr>\n",
       "      <th>4</th>\n",
       "      <td>11193</td>\n",
       "      <td>Petrol</td>\n",
       "      <td>2019</td>\n",
       "      <td>Jeep Compass</td>\n",
       "      <td>1200000.0</td>\n",
       "    </tr>\n",
       "    <tr>\n",
       "      <th>...</th>\n",
       "      <td>...</td>\n",
       "      <td>...</td>\n",
       "      <td>...</td>\n",
       "      <td>...</td>\n",
       "      <td>...</td>\n",
       "    </tr>\n",
       "    <tr>\n",
       "      <th>2100</th>\n",
       "      <td>42158</td>\n",
       "      <td>Diesel</td>\n",
       "      <td>2015</td>\n",
       "      <td>Ford Figo</td>\n",
       "      <td>360000.0</td>\n",
       "    </tr>\n",
       "    <tr>\n",
       "      <th>2101</th>\n",
       "      <td>68862</td>\n",
       "      <td>Diesel</td>\n",
       "      <td>2013</td>\n",
       "      <td>MINI Cooper</td>\n",
       "      <td>2200000.0</td>\n",
       "    </tr>\n",
       "    <tr>\n",
       "      <th>2102</th>\n",
       "      <td>37622</td>\n",
       "      <td>Petrol</td>\n",
       "      <td>2018</td>\n",
       "      <td>Hyundai Verna</td>\n",
       "      <td>838000.0</td>\n",
       "    </tr>\n",
       "    <tr>\n",
       "      <th>2103</th>\n",
       "      <td>64726</td>\n",
       "      <td>Petrol</td>\n",
       "      <td>2017</td>\n",
       "      <td>Maruti Suzuki</td>\n",
       "      <td>675000.0</td>\n",
       "    </tr>\n",
       "    <tr>\n",
       "      <th>2104</th>\n",
       "      <td>29150</td>\n",
       "      <td>Petrol</td>\n",
       "      <td>2017</td>\n",
       "      <td>Hyundai Verna</td>\n",
       "      <td>876000.0</td>\n",
       "    </tr>\n",
       "  </tbody>\n",
       "</table>\n",
       "<p>2013 rows × 5 columns</p>\n",
       "</div>"
      ],
      "text/plain": [
       "      kms_driven fuel_type  year_of_manufacture           name      Price\n",
       "0          22402    Petrol                 2016  Hyundai Grand   445000.0\n",
       "1          10344    Petrol                 2019  Maruti Suzuki   293000.0\n",
       "2          12999    Diesel                 2021    Tata Safari  2249000.0\n",
       "3          45000    Petrol                 2016  Maruti Suzuki   695000.0\n",
       "4          11193    Petrol                 2019   Jeep Compass  1200000.0\n",
       "...          ...       ...                  ...            ...        ...\n",
       "2100       42158    Diesel                 2015      Ford Figo   360000.0\n",
       "2101       68862    Diesel                 2013    MINI Cooper  2200000.0\n",
       "2102       37622    Petrol                 2018  Hyundai Verna   838000.0\n",
       "2103       64726    Petrol                 2017  Maruti Suzuki   675000.0\n",
       "2104       29150    Petrol                 2017  Hyundai Verna   876000.0\n",
       "\n",
       "[2013 rows x 5 columns]"
      ]
     },
     "execution_count": 21,
     "metadata": {},
     "output_type": "execute_result"
    }
   ],
   "source": [
    "car"
   ]
  },
  {
   "cell_type": "code",
   "execution_count": 22,
   "id": "f2cc97e5",
   "metadata": {},
   "outputs": [
    {
     "data": {
      "text/html": [
       "<div>\n",
       "<style scoped>\n",
       "    .dataframe tbody tr th:only-of-type {\n",
       "        vertical-align: middle;\n",
       "    }\n",
       "\n",
       "    .dataframe tbody tr th {\n",
       "        vertical-align: top;\n",
       "    }\n",
       "\n",
       "    .dataframe thead th {\n",
       "        text-align: right;\n",
       "    }\n",
       "</style>\n",
       "<table border=\"1\" class=\"dataframe\">\n",
       "  <thead>\n",
       "    <tr style=\"text-align: right;\">\n",
       "      <th></th>\n",
       "      <th>kms_driven</th>\n",
       "      <th>year_of_manufacture</th>\n",
       "      <th>Price</th>\n",
       "    </tr>\n",
       "  </thead>\n",
       "  <tbody>\n",
       "    <tr>\n",
       "      <th>count</th>\n",
       "      <td>2.013000e+03</td>\n",
       "      <td>2013.000000</td>\n",
       "      <td>2.013000e+03</td>\n",
       "    </tr>\n",
       "    <tr>\n",
       "      <th>mean</th>\n",
       "      <td>4.843062e+04</td>\n",
       "      <td>2017.023845</td>\n",
       "      <td>9.051722e+06</td>\n",
       "    </tr>\n",
       "    <tr>\n",
       "      <th>std</th>\n",
       "      <td>8.542756e+04</td>\n",
       "      <td>2.823402</td>\n",
       "      <td>2.598195e+08</td>\n",
       "    </tr>\n",
       "    <tr>\n",
       "      <th>min</th>\n",
       "      <td>6.400000e+01</td>\n",
       "      <td>2004.000000</td>\n",
       "      <td>1.100000e+05</td>\n",
       "    </tr>\n",
       "    <tr>\n",
       "      <th>25%</th>\n",
       "      <td>2.500000e+04</td>\n",
       "      <td>2015.000000</td>\n",
       "      <td>4.750000e+05</td>\n",
       "    </tr>\n",
       "    <tr>\n",
       "      <th>50%</th>\n",
       "      <td>4.282500e+04</td>\n",
       "      <td>2017.000000</td>\n",
       "      <td>6.990000e+05</td>\n",
       "    </tr>\n",
       "    <tr>\n",
       "      <th>75%</th>\n",
       "      <td>6.300000e+04</td>\n",
       "      <td>2019.000000</td>\n",
       "      <td>1.150000e+06</td>\n",
       "    </tr>\n",
       "    <tr>\n",
       "      <th>max</th>\n",
       "      <td>3.600000e+06</td>\n",
       "      <td>2022.000000</td>\n",
       "      <td>9.999100e+09</td>\n",
       "    </tr>\n",
       "  </tbody>\n",
       "</table>\n",
       "</div>"
      ],
      "text/plain": [
       "         kms_driven  year_of_manufacture         Price\n",
       "count  2.013000e+03          2013.000000  2.013000e+03\n",
       "mean   4.843062e+04          2017.023845  9.051722e+06\n",
       "std    8.542756e+04             2.823402  2.598195e+08\n",
       "min    6.400000e+01          2004.000000  1.100000e+05\n",
       "25%    2.500000e+04          2015.000000  4.750000e+05\n",
       "50%    4.282500e+04          2017.000000  6.990000e+05\n",
       "75%    6.300000e+04          2019.000000  1.150000e+06\n",
       "max    3.600000e+06          2022.000000  9.999100e+09"
      ]
     },
     "execution_count": 22,
     "metadata": {},
     "output_type": "execute_result"
    }
   ],
   "source": [
    "car.describe()"
   ]
  },
  {
   "cell_type": "code",
   "execution_count": 23,
   "id": "a8d307fe",
   "metadata": {},
   "outputs": [],
   "source": [
    "car=car[car['Price']<6900000].reset_index(drop=True)"
   ]
  },
  {
   "cell_type": "code",
   "execution_count": 24,
   "id": "565edbf3",
   "metadata": {},
   "outputs": [],
   "source": [
    "car.to_csv(\"cleanedcar.csv\")"
   ]
  },
  {
   "cell_type": "markdown",
   "id": "f6964f62",
   "metadata": {},
   "source": [
    "# Data Visualisation"
   ]
  },
  {
   "cell_type": "code",
   "execution_count": 25,
   "id": "ac08a4ce",
   "metadata": {},
   "outputs": [
    {
     "data": {
      "text/plain": [
       "<Axes: >"
      ]
     },
     "execution_count": 25,
     "metadata": {},
     "output_type": "execute_result"
    },
    {
     "data": {
      "image/png": "[encoded data removed]",
      "text/plain": [
       "<Figure size 640x480 with 1 Axes>"
      ]
     },
     "metadata": {},
     "output_type": "display_data"
    }
   ],
   "source": [
    "car['fuel_type'].value_counts().plot(kind='bar')"
   ]
  },
  {
   "cell_type": "code",
   "execution_count": 26,
   "id": "f08a38d0",
   "metadata": {},
   "outputs": [
    {
     "data": {
      "image/png": "[encoded data removed]",
      "text/plain": [
       "<Figure size 1200x400 with 1 Axes>"
      ]
     },
     "metadata": {},
     "output_type": "display_data"
    }
   ],
   "source": [
    "plt.figure(figsize=(12,4))\n",
    "plt.ticklabel_format(style='plain')\n",
    "sns.distplot(car['Price'])\n",
    "plt.show()"
   ]
  },
  {
   "cell_type": "markdown",
   "id": "966b5838",
   "metadata": {},
   "source": [
    "# Feature Selection"
   ]
  },
  {
   "cell_type": "code",
   "execution_count": 27,
   "id": "fc54cbad",
   "metadata": {},
   "outputs": [],
   "source": [
    "from sklearn.preprocessing import StandardScaler\n",
    "scaler=StandardScaler()\n",
    "columns=['kms_driven','year_of_manufacture']\n",
    "car[columns]=scaler.fit_transform(car[columns])"
   ]
  },
  {
   "cell_type": "markdown",
   "id": "fae7a039",
   "metadata": {},
   "source": [
    "# Model"
   ]
  },
  {
   "cell_type": "code",
   "execution_count": 28,
   "id": "57b4595f",
   "metadata": {},
   "outputs": [],
   "source": [
    "x=car.drop(columns='Price')\n",
    "y=car['Price']"
   ]
  },
  {
   "cell_type": "code",
   "execution_count": 29,
   "id": "d8fa7389",
   "metadata": {},
   "outputs": [
    {
     "data": {
      "text/html": [
       "<div>\n",
       "<style scoped>\n",
       "    .dataframe tbody tr th:only-of-type {\n",
       "        vertical-align: middle;\n",
       "    }\n",
       "\n",
       "    .dataframe tbody tr th {\n",
       "        vertical-align: top;\n",
       "    }\n",
       "\n",
       "    .dataframe thead th {\n",
       "        text-align: right;\n",
       "    }\n",
       "</style>\n",
       "<table border=\"1\" class=\"dataframe\">\n",
       "  <thead>\n",
       "    <tr style=\"text-align: right;\">\n",
       "      <th></th>\n",
       "      <th>kms_driven</th>\n",
       "      <th>fuel_type</th>\n",
       "      <th>year_of_manufacture</th>\n",
       "      <th>name</th>\n",
       "    </tr>\n",
       "  </thead>\n",
       "  <tbody>\n",
       "    <tr>\n",
       "      <th>0</th>\n",
       "      <td>-0.305580</td>\n",
       "      <td>Petrol</td>\n",
       "      <td>-0.365985</td>\n",
       "      <td>Hyundai Grand</td>\n",
       "    </tr>\n",
       "    <tr>\n",
       "      <th>1</th>\n",
       "      <td>-0.446249</td>\n",
       "      <td>Petrol</td>\n",
       "      <td>0.707224</td>\n",
       "      <td>Maruti Suzuki</td>\n",
       "    </tr>\n",
       "    <tr>\n",
       "      <th>2</th>\n",
       "      <td>-0.415276</td>\n",
       "      <td>Diesel</td>\n",
       "      <td>1.422697</td>\n",
       "      <td>Tata Safari</td>\n",
       "    </tr>\n",
       "    <tr>\n",
       "      <th>3</th>\n",
       "      <td>-0.041951</td>\n",
       "      <td>Petrol</td>\n",
       "      <td>-0.365985</td>\n",
       "      <td>Maruti Suzuki</td>\n",
       "    </tr>\n",
       "    <tr>\n",
       "      <th>4</th>\n",
       "      <td>-0.436345</td>\n",
       "      <td>Petrol</td>\n",
       "      <td>0.707224</td>\n",
       "      <td>Jeep Compass</td>\n",
       "    </tr>\n",
       "    <tr>\n",
       "      <th>...</th>\n",
       "      <td>...</td>\n",
       "      <td>...</td>\n",
       "      <td>...</td>\n",
       "      <td>...</td>\n",
       "    </tr>\n",
       "    <tr>\n",
       "      <th>1990</th>\n",
       "      <td>-0.075106</td>\n",
       "      <td>Diesel</td>\n",
       "      <td>-0.723721</td>\n",
       "      <td>Ford Figo</td>\n",
       "    </tr>\n",
       "    <tr>\n",
       "      <th>1991</th>\n",
       "      <td>0.236424</td>\n",
       "      <td>Diesel</td>\n",
       "      <td>-1.439194</td>\n",
       "      <td>MINI Cooper</td>\n",
       "    </tr>\n",
       "    <tr>\n",
       "      <th>1992</th>\n",
       "      <td>-0.128023</td>\n",
       "      <td>Petrol</td>\n",
       "      <td>0.349488</td>\n",
       "      <td>Hyundai Verna</td>\n",
       "    </tr>\n",
       "    <tr>\n",
       "      <th>1993</th>\n",
       "      <td>0.188173</td>\n",
       "      <td>Petrol</td>\n",
       "      <td>-0.008249</td>\n",
       "      <td>Maruti Suzuki</td>\n",
       "    </tr>\n",
       "    <tr>\n",
       "      <th>1994</th>\n",
       "      <td>-0.226858</td>\n",
       "      <td>Petrol</td>\n",
       "      <td>-0.008249</td>\n",
       "      <td>Hyundai Verna</td>\n",
       "    </tr>\n",
       "  </tbody>\n",
       "</table>\n",
       "<p>1995 rows × 4 columns</p>\n",
       "</div>"
      ],
      "text/plain": [
       "      kms_driven fuel_type  year_of_manufacture           name\n",
       "0      -0.305580    Petrol            -0.365985  Hyundai Grand\n",
       "1      -0.446249    Petrol             0.707224  Maruti Suzuki\n",
       "2      -0.415276    Diesel             1.422697    Tata Safari\n",
       "3      -0.041951    Petrol            -0.365985  Maruti Suzuki\n",
       "4      -0.436345    Petrol             0.707224   Jeep Compass\n",
       "...          ...       ...                  ...            ...\n",
       "1990   -0.075106    Diesel            -0.723721      Ford Figo\n",
       "1991    0.236424    Diesel            -1.439194    MINI Cooper\n",
       "1992   -0.128023    Petrol             0.349488  Hyundai Verna\n",
       "1993    0.188173    Petrol            -0.008249  Maruti Suzuki\n",
       "1994   -0.226858    Petrol            -0.008249  Hyundai Verna\n",
       "\n",
       "[1995 rows x 4 columns]"
      ]
     },
     "execution_count": 29,
     "metadata": {},
     "output_type": "execute_result"
    }
   ],
   "source": [
    "x"
   ]
  },
  {
   "cell_type": "code",
   "execution_count": 30,
   "id": "2be4db85",
   "metadata": {},
   "outputs": [
    {
     "data": {
      "text/plain": [
       "0        445000.0\n",
       "1        293000.0\n",
       "2       2249000.0\n",
       "3        695000.0\n",
       "4       1200000.0\n",
       "          ...    \n",
       "1990     360000.0\n",
       "1991    2200000.0\n",
       "1992     838000.0\n",
       "1993     675000.0\n",
       "1994     876000.0\n",
       "Name: Price, Length: 1995, dtype: float64"
      ]
     },
     "execution_count": 30,
     "metadata": {},
     "output_type": "execute_result"
    }
   ],
   "source": [
    "y"
   ]
  },
  {
   "cell_type": "code",
   "execution_count": 31,
   "id": "87ec6976",
   "metadata": {},
   "outputs": [],
   "source": [
    "x_train,x_test,y_train,y_test=train_test_split(x,y,test_size=0.2,random_state=49)"
   ]
  },
  {
   "cell_type": "code",
   "execution_count": 32,
   "id": "d8d33432",
   "metadata": {},
   "outputs": [],
   "source": [
    "from sklearn.linear_model import LinearRegression\n",
    "from sklearn.preprocessing import OneHotEncoder\n",
    "from sklearn.compose import make_column_transformer\n",
    "from sklearn.pipeline import make_pipeline"
   ]
  },
  {
   "cell_type": "code",
   "execution_count": 33,
   "id": "cab7e269",
   "metadata": {},
   "outputs": [
    {
     "data": {
      "text/html": [
       "<style>#sk-container-id-1 {color: black;}#sk-container-id-1 pre{padding: 0;}#sk-container-id-1 div.sk-toggleable {background-color: white;}#sk-container-id-1 label.sk-toggleable__label {cursor: pointer;display: block;width: 100%;margin-bottom: 0;padding: 0.3em;box-sizing: border-box;text-align: center;}#sk-container-id-1 label.sk-toggleable__label-arrow:before {content: \"▸\";float: left;margin-right: 0.25em;color: #696969;}#sk-container-id-1 label.sk-toggleable__label-arrow:hover:before {color: black;}#sk-container-id-1 div.sk-estimator:hover label.sk-toggleable__label-arrow:before {color: black;}#sk-container-id-1 div.sk-toggleable__content {max-height: 0;max-width: 0;overflow: hidden;text-align: left;background-color: #f0f8ff;}#sk-container-id-1 div.sk-toggleable__content pre {margin: 0.2em;color: black;border-radius: 0.25em;background-color: #f0f8ff;}#sk-container-id-1 input.sk-toggleable__control:checked~div.sk-toggleable__content {max-height: 200px;max-width: 100%;overflow: auto;}#sk-container-id-1 input.sk-toggleable__control:checked~label.sk-toggleable__label-arrow:before {content: \"▾\";}#sk-container-id-1 div.sk-estimator input.sk-toggleable__control:checked~label.sk-toggleable__label {background-color: #d4ebff;}#sk-container-id-1 div.sk-label input.sk-toggleable__control:checked~label.sk-toggleable__label {background-color: #d4ebff;}#sk-container-id-1 input.sk-hidden--visually {border: 0;clip: rect(1px 1px 1px 1px);clip: rect(1px, 1px, 1px, 1px);height: 1px;margin: -1px;overflow: hidden;padding: 0;position: absolute;width: 1px;}#sk-container-id-1 div.sk-estimator {font-family: monospace;background-color: #f0f8ff;border: 1px dotted black;border-radius: 0.25em;box-sizing: border-box;margin-bottom: 0.5em;}#sk-container-id-1 div.sk-estimator:hover {background-color: #d4ebff;}#sk-container-id-1 div.sk-parallel-item::after {content: \"\";width: 100%;border-bottom: 1px solid gray;flex-grow: 1;}#sk-container-id-1 div.sk-label:hover label.sk-toggleable__label {background-color: #d4ebff;}#sk-container-id-1 div.sk-serial::before {content: \"\";position: absolute;border-left: 1px solid gray;box-sizing: border-box;top: 0;bottom: 0;left: 50%;z-index: 0;}#sk-container-id-1 div.sk-serial {display: flex;flex-direction: column;align-items: center;background-color: white;padding-right: 0.2em;padding-left: 0.2em;position: relative;}#sk-container-id-1 div.sk-item {position: relative;z-index: 1;}#sk-container-id-1 div.sk-parallel {display: flex;align-items: stretch;justify-content: center;background-color: white;position: relative;}#sk-container-id-1 div.sk-item::before, #sk-container-id-1 div.sk-parallel-item::before {content: \"\";position: absolute;border-left: 1px solid gray;box-sizing: border-box;top: 0;bottom: 0;left: 50%;z-index: -1;}#sk-container-id-1 div.sk-parallel-item {display: flex;flex-direction: column;z-index: 1;position: relative;background-color: white;}#sk-container-id-1 div.sk-parallel-item:first-child::after {align-self: flex-end;width: 50%;}#sk-container-id-1 div.sk-parallel-item:last-child::after {align-self: flex-start;width: 50%;}#sk-container-id-1 div.sk-parallel-item:only-child::after {width: 0;}#sk-container-id-1 div.sk-dashed-wrapped {border: 1px dashed gray;margin: 0 0.4em 0.5em 0.4em;box-sizing: border-box;padding-bottom: 0.4em;background-color: white;}#sk-container-id-1 div.sk-label label {font-family: monospace;font-weight: bold;display: inline-block;line-height: 1.2em;}#sk-container-id-1 div.sk-label-container {text-align: center;}#sk-container-id-1 div.sk-container {/* jupyter's `normalize.less` sets `[hidden] { display: none; }` but bootstrap.min.css set `[hidden] { display: none !important; }` so we also need the `!important` here to be able to override the default hidden behavior on the sphinx rendered scikit-learn.org. See: https://github.com/scikit-learn/scikit-learn/issues/21755 */display: inline-block !important;position: relative;}#sk-container-id-1 div.sk-text-repr-fallback {display: none;}</style><div id=\"sk-container-id-1\" class=\"sk-top-container\"><div class=\"sk-text-repr-fallback\"><pre>OneHotEncoder()</pre><b>In a Jupyter environment, please rerun this cell to show the HTML representation or trust the notebook. <br />On GitHub, the HTML representation is unable to render, please try loading this page with nbviewer.org.</b></div><div class=\"sk-container\" hidden><div class=\"sk-item\"><div class=\"sk-estimator sk-toggleable\"><input class=\"sk-toggleable__control sk-hidden--visually\" id=\"sk-estimator-id-1\" type=\"checkbox\" checked><label for=\"sk-estimator-id-1\" class=\"sk-toggleable__label sk-toggleable__label-arrow\">OneHotEncoder</label><div class=\"sk-toggleable__content\"><pre>OneHotEncoder()</pre></div></div></div></div></div>"
      ],
      "text/plain": [
       "OneHotEncoder()"
      ]
     },
     "execution_count": 33,
     "metadata": {},
     "output_type": "execute_result"
    }
   ],
   "source": [
    "ohe=OneHotEncoder()\n",
    "ohe.fit(x[['name','fuel_type']])"
   ]
  },
  {
   "cell_type": "code",
   "execution_count": 34,
   "id": "3ed4d247",
   "metadata": {},
   "outputs": [],
   "source": [
    "column_trans=make_column_transformer((OneHotEncoder(categories=ohe.categories_),['name','fuel_type']),remainder='passthrough')"
   ]
  },
  {
   "cell_type": "code",
   "execution_count": 35,
   "id": "e3478d78",
   "metadata": {},
   "outputs": [
    {
     "data": {
      "text/plain": [
       "sklearn.linear_model._base.LinearRegression"
      ]
     },
     "execution_count": 35,
     "metadata": {},
     "output_type": "execute_result"
    }
   ],
   "source": [
    "LinearRegression"
   ]
  },
  {
   "cell_type": "code",
   "execution_count": 36,
   "id": "2fd958c4",
   "metadata": {},
   "outputs": [],
   "source": [
    "lr=LinearRegression()"
   ]
  },
  {
   "cell_type": "code",
   "execution_count": 37,
   "id": "a3f21a36",
   "metadata": {},
   "outputs": [],
   "source": [
    "pipe=make_pipeline(column_trans,lr)"
   ]
  },
  {
   "cell_type": "code",
   "execution_count": 38,
   "id": "d2fbec21",
   "metadata": {},
   "outputs": [
    {
     "data": {
      "text/html": [
       "<style>#sk-container-id-2 {color: black;}#sk-container-id-2 pre{padding: 0;}#sk-container-id-2 div.sk-toggleable {background-color: white;}#sk-container-id-2 label.sk-toggleable__label {cursor: pointer;display: block;width: 100%;margin-bottom: 0;padding: 0.3em;box-sizing: border-box;text-align: center;}#sk-container-id-2 label.sk-toggleable__label-arrow:before {content: \"▸\";float: left;margin-right: 0.25em;color: #696969;}#sk-container-id-2 label.sk-toggleable__label-arrow:hover:before {color: black;}#sk-container-id-2 div.sk-estimator:hover label.sk-toggleable__label-arrow:before {color: black;}#sk-container-id-2 div.sk-toggleable__content {max-height: 0;max-width: 0;overflow: hidden;text-align: left;background-color: #f0f8ff;}#sk-container-id-2 div.sk-toggleable__content pre {margin: 0.2em;color: black;border-radius: 0.25em;background-color: #f0f8ff;}#sk-container-id-2 input.sk-toggleable__control:checked~div.sk-toggleable__content {max-height: 200px;max-width: 100%;overflow: auto;}#sk-container-id-2 input.sk-toggleable__control:checked~label.sk-toggleable__label-arrow:before {content: \"▾\";}#sk-container-id-2 div.sk-estimator input.sk-toggleable__control:checked~label.sk-toggleable__label {background-color: #d4ebff;}#sk-container-id-2 div.sk-label input.sk-toggleable__control:checked~label.sk-toggleable__label {background-color: #d4ebff;}#sk-container-id-2 input.sk-hidden--visually {border: 0;clip: rect(1px 1px 1px 1px);clip: rect(1px, 1px, 1px, 1px);height: 1px;margin: -1px;overflow: hidden;padding: 0;position: absolute;width: 1px;}#sk-container-id-2 div.sk-estimator {font-family: monospace;background-color: #f0f8ff;border: 1px dotted black;border-radius: 0.25em;box-sizing: border-box;margin-bottom: 0.5em;}#sk-container-id-2 div.sk-estimator:hover {background-color: #d4ebff;}#sk-container-id-2 div.sk-parallel-item::after {content: \"\";width: 100%;border-bottom: 1px solid gray;flex-grow: 1;}#sk-container-id-2 div.sk-label:hover label.sk-toggleable__label {background-color: #d4ebff;}#sk-container-id-2 div.sk-serial::before {content: \"\";position: absolute;border-left: 1px solid gray;box-sizing: border-box;top: 0;bottom: 0;left: 50%;z-index: 0;}#sk-container-id-2 div.sk-serial {display: flex;flex-direction: column;align-items: center;background-color: white;padding-right: 0.2em;padding-left: 0.2em;position: relative;}#sk-container-id-2 div.sk-item {position: relative;z-index: 1;}#sk-container-id-2 div.sk-parallel {display: flex;align-items: stretch;justify-content: center;background-color: white;position: relative;}#sk-container-id-2 div.sk-item::before, #sk-container-id-2 div.sk-parallel-item::before {content: \"\";position: absolute;border-left: 1px solid gray;box-sizing: border-box;top: 0;bottom: 0;left: 50%;z-index: -1;}#sk-container-id-2 div.sk-parallel-item {display: flex;flex-direction: column;z-index: 1;position: relative;background-color: white;}#sk-container-id-2 div.sk-parallel-item:first-child::after {align-self: flex-end;width: 50%;}#sk-container-id-2 div.sk-parallel-item:last-child::after {align-self: flex-start;width: 50%;}#sk-container-id-2 div.sk-parallel-item:only-child::after {width: 0;}#sk-container-id-2 div.sk-dashed-wrapped {border: 1px dashed gray;margin: 0 0.4em 0.5em 0.4em;box-sizing: border-box;padding-bottom: 0.4em;background-color: white;}#sk-container-id-2 div.sk-label label {font-family: monospace;font-weight: bold;display: inline-block;line-height: 1.2em;}#sk-container-id-2 div.sk-label-container {text-align: center;}#sk-container-id-2 div.sk-container {/* jupyter's `normalize.less` sets `[hidden] { display: none; }` but bootstrap.min.css set `[hidden] { display: none !important; }` so we also need the `!important` here to be able to override the default hidden behavior on the sphinx rendered scikit-learn.org. See: https://github.com/scikit-learn/scikit-learn/issues/21755 */display: inline-block !important;position: relative;}#sk-container-id-2 div.sk-text-repr-fallback {display: none;}</style><div id=\"sk-container-id-2\" class=\"sk-top-container\"><div class=\"sk-text-repr-fallback\"><pre>Pipeline(steps=[(&#x27;columntransformer&#x27;,\n",
       "                 ColumnTransformer(remainder=&#x27;passthrough&#x27;,\n",
       "                                   transformers=[(&#x27;onehotencoder&#x27;,\n",
       "                                                  OneHotEncoder(categories=[array([&#x27;Audi A3&#x27;, &#x27;Audi A4&#x27;, &#x27;Audi A6&#x27;, &#x27;Audi A8&#x27;, &#x27;Audi Q2&#x27;, &#x27;Audi Q3&#x27;,\n",
       "       &#x27;Audi Q5&#x27;, &#x27;Audi Q7&#x27;, &#x27;Audi TT&#x27;, &#x27;BMW 3&#x27;, &#x27;BMW 5&#x27;, &#x27;BMW 7&#x27;,\n",
       "       &#x27;BMW X1&#x27;, &#x27;BMW X3&#x27;, &#x27;BMW X4&#x27;, &#x27;BMW X5&#x27;, &#x27;Chevrolet Beat&#x27;,\n",
       "       &#x27;Chevrolet Cruze&#x27;, &#x27;Chevrolet Optra&#x27;, &#x27;Chevrolet Tavera&#x27;,\n",
       "       &#x27;Citr...\n",
       "       &#x27;Volkswagen Cross&#x27;, &#x27;Volkswagen Jetta&#x27;, &#x27;Volkswagen Passat&#x27;,\n",
       "       &#x27;Volkswagen Polo&#x27;, &#x27;Volkswagen Taigun&#x27;, &#x27;Volkswagen Tiguan&#x27;,\n",
       "       &#x27;Volkswagen Vento&#x27;, &#x27;Volvo S60&#x27;, &#x27;Volvo S90&#x27;, &#x27;Volvo V40&#x27;,\n",
       "       &#x27;Volvo V90&#x27;, &#x27;Volvo XC60&#x27;, &#x27;Volvo XC90&#x27;], dtype=object),\n",
       "                                                                            array([&#x27;CNG&#x27;, &#x27;Diesel&#x27;, &#x27;Electric&#x27;, &#x27;Hybrid&#x27;, &#x27;LPG&#x27;, &#x27;Petrol&#x27;],\n",
       "      dtype=object)]),\n",
       "                                                  [&#x27;name&#x27;, &#x27;fuel_type&#x27;])])),\n",
       "                (&#x27;linearregression&#x27;, LinearRegression())])</pre><b>In a Jupyter environment, please rerun this cell to show the HTML representation or trust the notebook. <br />On GitHub, the HTML representation is unable to render, please try loading this page with nbviewer.org.</b></div><div class=\"sk-container\" hidden><div class=\"sk-item sk-dashed-wrapped\"><div class=\"sk-label-container\"><div class=\"sk-label sk-toggleable\"><input class=\"sk-toggleable__control sk-hidden--visually\" id=\"sk-estimator-id-2\" type=\"checkbox\" ><label for=\"sk-estimator-id-2\" class=\"sk-toggleable__label sk-toggleable__label-arrow\">Pipeline</label><div class=\"sk-toggleable__content\"><pre>Pipeline(steps=[(&#x27;columntransformer&#x27;,\n",
       "                 ColumnTransformer(remainder=&#x27;passthrough&#x27;,\n",
       "                                   transformers=[(&#x27;onehotencoder&#x27;,\n",
       "                                                  OneHotEncoder(categories=[array([&#x27;Audi A3&#x27;, &#x27;Audi A4&#x27;, &#x27;Audi A6&#x27;, &#x27;Audi A8&#x27;, &#x27;Audi Q2&#x27;, &#x27;Audi Q3&#x27;,\n",
       "       &#x27;Audi Q5&#x27;, &#x27;Audi Q7&#x27;, &#x27;Audi TT&#x27;, &#x27;BMW 3&#x27;, &#x27;BMW 5&#x27;, &#x27;BMW 7&#x27;,\n",
       "       &#x27;BMW X1&#x27;, &#x27;BMW X3&#x27;, &#x27;BMW X4&#x27;, &#x27;BMW X5&#x27;, &#x27;Chevrolet Beat&#x27;,\n",
       "       &#x27;Chevrolet Cruze&#x27;, &#x27;Chevrolet Optra&#x27;, &#x27;Chevrolet Tavera&#x27;,\n",
       "       &#x27;Citr...\n",
       "       &#x27;Volkswagen Cross&#x27;, &#x27;Volkswagen Jetta&#x27;, &#x27;Volkswagen Passat&#x27;,\n",
       "       &#x27;Volkswagen Polo&#x27;, &#x27;Volkswagen Taigun&#x27;, &#x27;Volkswagen Tiguan&#x27;,\n",
       "       &#x27;Volkswagen Vento&#x27;, &#x27;Volvo S60&#x27;, &#x27;Volvo S90&#x27;, &#x27;Volvo V40&#x27;,\n",
       "       &#x27;Volvo V90&#x27;, &#x27;Volvo XC60&#x27;, &#x27;Volvo XC90&#x27;], dtype=object),\n",
       "                                                                            array([&#x27;CNG&#x27;, &#x27;Diesel&#x27;, &#x27;Electric&#x27;, &#x27;Hybrid&#x27;, &#x27;LPG&#x27;, &#x27;Petrol&#x27;],\n",
       "      dtype=object)]),\n",
       "                                                  [&#x27;name&#x27;, &#x27;fuel_type&#x27;])])),\n",
       "                (&#x27;linearregression&#x27;, LinearRegression())])</pre></div></div></div><div class=\"sk-serial\"><div class=\"sk-item sk-dashed-wrapped\"><div class=\"sk-label-container\"><div class=\"sk-label sk-toggleable\"><input class=\"sk-toggleable__control sk-hidden--visually\" id=\"sk-estimator-id-3\" type=\"checkbox\" ><label for=\"sk-estimator-id-3\" class=\"sk-toggleable__label sk-toggleable__label-arrow\">columntransformer: ColumnTransformer</label><div class=\"sk-toggleable__content\"><pre>ColumnTransformer(remainder=&#x27;passthrough&#x27;,\n",
       "                  transformers=[(&#x27;onehotencoder&#x27;,\n",
       "                                 OneHotEncoder(categories=[array([&#x27;Audi A3&#x27;, &#x27;Audi A4&#x27;, &#x27;Audi A6&#x27;, &#x27;Audi A8&#x27;, &#x27;Audi Q2&#x27;, &#x27;Audi Q3&#x27;,\n",
       "       &#x27;Audi Q5&#x27;, &#x27;Audi Q7&#x27;, &#x27;Audi TT&#x27;, &#x27;BMW 3&#x27;, &#x27;BMW 5&#x27;, &#x27;BMW 7&#x27;,\n",
       "       &#x27;BMW X1&#x27;, &#x27;BMW X3&#x27;, &#x27;BMW X4&#x27;, &#x27;BMW X5&#x27;, &#x27;Chevrolet Beat&#x27;,\n",
       "       &#x27;Chevrolet Cruze&#x27;, &#x27;Chevrolet Optra&#x27;, &#x27;Chevrolet Tavera&#x27;,\n",
       "       &#x27;Citroen C5&#x27;, &#x27;Datsun GO&#x27;, &#x27;Datsun GO+&#x27;, &#x27;Datsun...\n",
       "       &#x27;Toyota Urban&#x27;, &#x27;Toyota Yaris&#x27;, &#x27;Volkswagen Ameo&#x27;,\n",
       "       &#x27;Volkswagen Cross&#x27;, &#x27;Volkswagen Jetta&#x27;, &#x27;Volkswagen Passat&#x27;,\n",
       "       &#x27;Volkswagen Polo&#x27;, &#x27;Volkswagen Taigun&#x27;, &#x27;Volkswagen Tiguan&#x27;,\n",
       "       &#x27;Volkswagen Vento&#x27;, &#x27;Volvo S60&#x27;, &#x27;Volvo S90&#x27;, &#x27;Volvo V40&#x27;,\n",
       "       &#x27;Volvo V90&#x27;, &#x27;Volvo XC60&#x27;, &#x27;Volvo XC90&#x27;], dtype=object),\n",
       "                                                           array([&#x27;CNG&#x27;, &#x27;Diesel&#x27;, &#x27;Electric&#x27;, &#x27;Hybrid&#x27;, &#x27;LPG&#x27;, &#x27;Petrol&#x27;],\n",
       "      dtype=object)]),\n",
       "                                 [&#x27;name&#x27;, &#x27;fuel_type&#x27;])])</pre></div></div></div><div class=\"sk-parallel\"><div class=\"sk-parallel-item\"><div class=\"sk-item\"><div class=\"sk-label-container\"><div class=\"sk-label sk-toggleable\"><input class=\"sk-toggleable__control sk-hidden--visually\" id=\"sk-estimator-id-4\" type=\"checkbox\" ><label for=\"sk-estimator-id-4\" class=\"sk-toggleable__label sk-toggleable__label-arrow\">onehotencoder</label><div class=\"sk-toggleable__content\"><pre>[&#x27;name&#x27;, &#x27;fuel_type&#x27;]</pre></div></div></div><div class=\"sk-serial\"><div class=\"sk-item\"><div class=\"sk-estimator sk-toggleable\"><input class=\"sk-toggleable__control sk-hidden--visually\" id=\"sk-estimator-id-5\" type=\"checkbox\" ><label for=\"sk-estimator-id-5\" class=\"sk-toggleable__label sk-toggleable__label-arrow\">OneHotEncoder</label><div class=\"sk-toggleable__content\"><pre>OneHotEncoder(categories=[array([&#x27;Audi A3&#x27;, &#x27;Audi A4&#x27;, &#x27;Audi A6&#x27;, &#x27;Audi A8&#x27;, &#x27;Audi Q2&#x27;, &#x27;Audi Q3&#x27;,\n",
       "       &#x27;Audi Q5&#x27;, &#x27;Audi Q7&#x27;, &#x27;Audi TT&#x27;, &#x27;BMW 3&#x27;, &#x27;BMW 5&#x27;, &#x27;BMW 7&#x27;,\n",
       "       &#x27;BMW X1&#x27;, &#x27;BMW X3&#x27;, &#x27;BMW X4&#x27;, &#x27;BMW X5&#x27;, &#x27;Chevrolet Beat&#x27;,\n",
       "       &#x27;Chevrolet Cruze&#x27;, &#x27;Chevrolet Optra&#x27;, &#x27;Chevrolet Tavera&#x27;,\n",
       "       &#x27;Citroen C5&#x27;, &#x27;Datsun GO&#x27;, &#x27;Datsun GO+&#x27;, &#x27;Datsun redi-GO&#x27;,\n",
       "       &#x27;Fiat Abarth&#x27;, &#x27;Fiat Punto&#x27;, &#x27;Ford Aspire&#x27;, &#x27;Ford Classic&#x27;,\n",
       "       &#x27;Ford EcoSpor...\n",
       "       &#x27;Toyota Fortuner&#x27;, &#x27;Toyota Glanza&#x27;, &#x27;Toyota Innova&#x27;,\n",
       "       &#x27;Toyota Urban&#x27;, &#x27;Toyota Yaris&#x27;, &#x27;Volkswagen Ameo&#x27;,\n",
       "       &#x27;Volkswagen Cross&#x27;, &#x27;Volkswagen Jetta&#x27;, &#x27;Volkswagen Passat&#x27;,\n",
       "       &#x27;Volkswagen Polo&#x27;, &#x27;Volkswagen Taigun&#x27;, &#x27;Volkswagen Tiguan&#x27;,\n",
       "       &#x27;Volkswagen Vento&#x27;, &#x27;Volvo S60&#x27;, &#x27;Volvo S90&#x27;, &#x27;Volvo V40&#x27;,\n",
       "       &#x27;Volvo V90&#x27;, &#x27;Volvo XC60&#x27;, &#x27;Volvo XC90&#x27;], dtype=object),\n",
       "                          array([&#x27;CNG&#x27;, &#x27;Diesel&#x27;, &#x27;Electric&#x27;, &#x27;Hybrid&#x27;, &#x27;LPG&#x27;, &#x27;Petrol&#x27;],\n",
       "      dtype=object)])</pre></div></div></div></div></div></div><div class=\"sk-parallel-item\"><div class=\"sk-item\"><div class=\"sk-label-container\"><div class=\"sk-label sk-toggleable\"><input class=\"sk-toggleable__control sk-hidden--visually\" id=\"sk-estimator-id-6\" type=\"checkbox\" ><label for=\"sk-estimator-id-6\" class=\"sk-toggleable__label sk-toggleable__label-arrow\">remainder</label><div class=\"sk-toggleable__content\"><pre>[&#x27;kms_driven&#x27;, &#x27;year_of_manufacture&#x27;]</pre></div></div></div><div class=\"sk-serial\"><div class=\"sk-item\"><div class=\"sk-estimator sk-toggleable\"><input class=\"sk-toggleable__control sk-hidden--visually\" id=\"sk-estimator-id-7\" type=\"checkbox\" ><label for=\"sk-estimator-id-7\" class=\"sk-toggleable__label sk-toggleable__label-arrow\">passthrough</label><div class=\"sk-toggleable__content\"><pre>passthrough</pre></div></div></div></div></div></div></div></div><div class=\"sk-item\"><div class=\"sk-estimator sk-toggleable\"><input class=\"sk-toggleable__control sk-hidden--visually\" id=\"sk-estimator-id-8\" type=\"checkbox\" ><label for=\"sk-estimator-id-8\" class=\"sk-toggleable__label sk-toggleable__label-arrow\">LinearRegression</label><div class=\"sk-toggleable__content\"><pre>LinearRegression()</pre></div></div></div></div></div></div></div>"
      ],
      "text/plain": [
       "Pipeline(steps=[('columntransformer',\n",
       "                 ColumnTransformer(remainder='passthrough',\n",
       "                                   transformers=[('onehotencoder',\n",
       "                                                  OneHotEncoder(categories=[array(['Audi A3', 'Audi A4', 'Audi A6', 'Audi A8', 'Audi Q2', 'Audi Q3',\n",
       "       'Audi Q5', 'Audi Q7', 'Audi TT', 'BMW 3', 'BMW 5', 'BMW 7',\n",
       "       'BMW X1', 'BMW X3', 'BMW X4', 'BMW X5', 'Chevrolet Beat',\n",
       "       'Chevrolet Cruze', 'Chevrolet Optra', 'Chevrolet Tavera',\n",
       "       'Citr...\n",
       "       'Volkswagen Cross', 'Volkswagen Jetta', 'Volkswagen Passat',\n",
       "       'Volkswagen Polo', 'Volkswagen Taigun', 'Volkswagen Tiguan',\n",
       "       'Volkswagen Vento', 'Volvo S60', 'Volvo S90', 'Volvo V40',\n",
       "       'Volvo V90', 'Volvo XC60', 'Volvo XC90'], dtype=object),\n",
       "                                                                            array(['CNG', 'Diesel', 'Electric', 'Hybrid', 'LPG', 'Petrol'],\n",
       "      dtype=object)]),\n",
       "                                                  ['name', 'fuel_type'])])),\n",
       "                ('linearregression', LinearRegression())])"
      ]
     },
     "execution_count": 38,
     "metadata": {},
     "output_type": "execute_result"
    }
   ],
   "source": [
    "pipe.fit(x_train,y_train)"
   ]
  },
  {
   "cell_type": "code",
   "execution_count": 39,
   "id": "b5d2a2d3",
   "metadata": {},
   "outputs": [],
   "source": [
    "y_pred=pipe.predict(x_test)"
   ]
  },
  {
   "cell_type": "code",
   "execution_count": 40,
   "id": "19ea6cb6",
   "metadata": {},
   "outputs": [
    {
     "data": {
      "text/plain": [
       "0.8681641012235943"
      ]
     },
     "execution_count": 40,
     "metadata": {},
     "output_type": "execute_result"
    }
   ],
   "source": [
    "r2_score(y_test,y_pred)"
   ]
  }
 ],
 "metadata": {
  "kernelspec": {
   "display_name": "Python 3 (ipykernel)",
   "language": "python",
   "name": "python3"
  },
  "language_info": {
   "codemirror_mode": {
    "name": "ipython",
    "version": 3
   },
   "file_extension": ".py",
   "mimetype": "text/x-python",
   "name": "python",
   "nbconvert_exporter": "python",
   "pygments_lexer": "ipython3",
   "version": "3.11.4"
  }
 },
 "nbformat": 4,
 "nbformat_minor": 5
}
